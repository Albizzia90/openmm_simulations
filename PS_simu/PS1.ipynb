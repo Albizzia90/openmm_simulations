{
 "cells": [
  {
   "cell_type": "code",
   "execution_count": null,
   "metadata": {},
   "outputs": [],
   "source": [
    "# \n",
    "from llpsmd.utils import load_parmed\n",
    "from llpsmd.omdsim import OMDSim\n",
    "import numpy as np\n",
    "import os"
   ]
  },
  {
   "cell_type": "code",
   "execution_count": null,
   "metadata": {},
   "outputs": [],
   "source": [
    "### parameters, need to change for your file names\n",
    "NTag= 'M700x14'\n",
    "Temp= 300\n",
    "TTag= f'T{Temp}'\n",
    "folder= './'+TTag+NTag\n",
    "### make folder\n",
    "print(folder)\n",
    "if not os.path.exists(folder):\n",
    "    os.makedirs(folder)\n",
    "### load parmed files (pdb & psf)\n",
    "pmd = load_parmed(fname=folder+'/packInit_'+NTag)\n",
    "print(pmd.topology)"
   ]
  },
  {
   "cell_type": "code",
   "execution_count": null,
   "metadata": {},
   "outputs": [],
   "source": [
    "mysim = OMDSim(pmd, param= 'M2', device= 'CUDA') # device= 'CUDA', ?fname= ?\n",
    "mysim.add_dh_force(ionic=0.1, temp=Temp,  n_excl=1, r_cut=4)\n",
    "mysim.add_lj_lambda(eps=0.8368, n_excl=1, r_cut=4)"
   ]
  },
  {
   "cell_type": "code",
   "execution_count": null,
   "metadata": {},
   "outputs": [],
   "source": [
    "step0= 100000\n",
    "step= 10000000 # 10M steps\n",
    "\n",
    "print('add external force, k=0.01')\n",
    "mysim.add_external(k=0.01)\n",
    "mysim.run_nvt(temp=Temp, gamma=0.01, dt=0.01, minimize=True, n_steps=step0, log_step=5000, fname=folder+'/attract')\n",
    "\n",
    "print('remove external force...')\n",
    "mysim.remove_external()\n",
    "mysim.run_nvt(temp=Temp, gamma=0.01, dt=0.01, minimize=False, n_steps=step, log_step=5000, fname=folder+'/output')"
   ]
  }
 ],
 "metadata": {
  "kernelspec": {
   "display_name": "Python 3.12.2 64-bit",
   "language": "python",
   "name": "python3"
  },
  "language_info": {
   "name": "python",
   "version": "3.12.2"
  },
  "orig_nbformat": 4,
  "vscode": {
   "interpreter": {
    "hash": "b0fa6594d8f4cbf19f97940f81e996739fb7646882a419484c72d19e05852a7e"
   }
  }
 },
 "nbformat": 4,
 "nbformat_minor": 2
}
