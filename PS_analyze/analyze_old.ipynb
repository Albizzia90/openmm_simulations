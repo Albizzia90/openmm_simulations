{
 "cells": [
  {
   "cell_type": "markdown",
   "id": "6c99db8d",
   "metadata": {},
   "source": [
    "prepare llpsmd environment\n",
    "\n",
    "Create folder and build initial file\n",
    "* pdb\n",
    "* psf"
   ]
  },
  {
   "cell_type": "code",
   "execution_count": null,
   "id": "e6f37c27",
   "metadata": {},
   "outputs": [],
   "source": [
    "import os\n",
    "folder= 'folderName' # \n",
    "if not os.path.exists(folder):\n",
    "        os.makedirs(folder)\n",
    "\n",
    "NTag= 'N300' # \n",
    "initFile= f'packInit_{NTag}' #\n",
    "# create '[initFile].pdb & [initFile].psf '"
   ]
  },
  {
   "cell_type": "markdown",
   "id": "cb8be768",
   "metadata": {},
   "source": [
    "parameters\n",
    "* temperature\n",
    "* tiemstep (dt= 0.01)\n",
    "* ion strength (ionic= 0.1)\n",
    "* friction (gramma= 0.01)"
   ]
  },
  {
   "cell_type": "code",
   "execution_count": null,
   "id": "fb625d98",
   "metadata": {},
   "outputs": [],
   "source": [
    "Temp= 300\n",
    "nStep0= 100000\n",
    "nStep= 50000000"
   ]
  },
  {
   "cell_type": "markdown",
   "id": "36e53357",
   "metadata": {},
   "source": [
    "Running code\n",
    "* save it into `[run].py` file\n",
    "* run \n",
    "```\n",
    "python [run].py\n",
    "```"
   ]
  },
  {
   "cell_type": "code",
   "execution_count": null,
   "id": "1ee09303",
   "metadata": {},
   "outputs": [],
   "source": [
    "from llpsmd.utils import load_parmed\n",
    "from llpsmd.omdsim import OMDSim\n",
    "\n",
    "pmd = load_parmed(fname=folder+'/'+initFile)\n",
    "print(pmd.topology)\n",
    "\n",
    "### create simulations by opnemm add force field \n",
    "mysim = OMDSim(pmd, param= 'M2', device= 'CUDA') # device= 'CUDA', ?fname= ?\n",
    "mysim.add_dh_force(ionic=0.1, temp=Temp,  n_excl=1, r_cut=4)\n",
    "mysim.add_lj_lambda(eps=0.8368, n_excl=1, r_cut=4)\n",
    "\n",
    "### attract polymers into the center for faster simulation\n",
    "print('add external force, k=0.01')\n",
    "mysim.add_external(k=0.01)\n",
    "mysim.run_nvt(temp=Temp, gamma=0.01, dt=0.01, minimize=True, n_steps=nStep0, log_step=5000, fname=folder+'/attract')\n",
    "\n",
    "### remove attraction and run\n",
    "print('remove external force...')\n",
    "mysim.remove_external()\n",
    "mysim.run_nvt(temp=Temp, gamma=0.01, dt=0.01, minimize=False, n_steps=nStep, log_step=5000, fname=folder+'/output')"
   ]
  },
  {
   "cell_type": "markdown",
   "id": "0284584a",
   "metadata": {},
   "source": [
    "analysis"
   ]
  },
  {
   "cell_type": "code",
   "execution_count": null,
   "id": "8018ae13",
   "metadata": {},
   "outputs": [],
   "source": [
    "import MDAnalysis as mda\n",
    "import mdtraj as md\n",
    "import numpy as np\n",
    "import nglview as nv\n",
    "import matplotlib as mpl\n",
    "import matplotlib.pyplot as plt\n",
    "from scipy.optimize import curve_fit\n",
    "import math\n",
    "import pickle\n",
    "import os\n",
    "\n",
    "folder0= 'folderName' # !\n",
    "NTag= 'N300'# ! [mutQ_]N100*\n",
    "Temps= np.arange(260,380,20) # ! ( [start, stop), step )\n",
    "seq= 'GY23'\n",
    "\n",
    "### add functions"
   ]
  },
  {
   "cell_type": "code",
   "execution_count": null,
   "id": "b3323f51",
   "metadata": {},
   "outputs": [],
   "source": [
    "# parameters calculation\n",
    "# --- evoluation plot\n",
    "start= 0\n",
    "period= 50 # less period is more accurate, but slower\n",
    "nbins= 101\n",
    "len_ratio= 1 # default: 1\n",
    "\n",
    "# --- average density profile\n",
    "nFrame= 10000 # total recorded frame of simulation\n",
    "timeTot= 500 # ! total time of simulation [ns]\n",
    "ratio_avg= 0.5 # frame ratio for average [0-1]\n",
    "\n",
    "end= math.floor(nFrame*len_ratio)\n",
    "print(f\"frame {start}:{period}:{end}\")\n",
    "\n",
    "I2= 23 # \n",
    "CA= 0.1 # [A] -> [nm]\n",
    "C= 1000"
   ]
  },
  {
   "cell_type": "code",
   "execution_count": null,
   "id": "fec1cf9e",
   "metadata": {},
   "outputs": [],
   "source": [
    "# loop for different temperature!\n",
    "NT= np.size(Temps) \n",
    "nHf= (nbins-1)//2\n",
    "denDils_pep= np.zeros(NT)\n",
    "denCods_pep= np.zeros(NT)\n",
    "# zHfs= np.zeros([NT,nHf])\n",
    "denHfs_pep= np.zeros([NT,nHf])\n",
    "denFits_pep= np.zeros([NT,nHf])\n",
    "popts_pep= np.zeros([NT,4])\n",
    "\n",
    "for i in range(NT):\n",
    "    TTag= 'T'+str(Temps[i])\n",
    "    folder= folder0+'/'+TTag+NTag \n",
    "    init= 'packInit_'+NTag\n",
    "    u = mda.Universe(folder+'/'+init+'.psf', folder+'/output_'+TTag+'.dcd') # !\n",
    "    # u = mda.Universe(seq+'/'+init+'.psf', folder+'/output_'+TTag+'.dcd')\n",
    "    # record density trajectory\n",
    "    sel_pep= 'not (name _NA)'\n",
    "    zc, dens_pep_, frames= density_profile3(u, sel_pep, nbins, start, period, len_ratio)\n",
    "    dens_pep= dens_pep_/I2\n",
    "    # calculate density profile\n",
    "    nF= np.shape(dens_pep)[0] # number of picked frames\n",
    "    Lx,Ly,Lz= u.dimensions[:3]*CA\n",
    "    iBeg_avg= round(nF*(1-ratio_avg))\n",
    "    # \n",
    "    denM_pep= np.mean(dens_pep[iBeg_avg:,:],axis=0)\n",
    "\n",
    "    dens= dens_pep\n",
    "    zHf_pep, denHf_pep, denFit_pep, popt_pep= tanh_fit(zc,denM_pep)\n",
    "    denCod_pep= popt_pep[0]\n",
    "    denDil_pep= popt_pep[1]\n",
    "    \n",
    "    denDils_pep[i]= denDil_pep\n",
    "    denCods_pep[i]= denCod_pep\n",
    "    denHfs_pep[i,:]= denHf_pep\n",
    "    denFits_pep[i,:]= denFit_pep\n",
    "    popts_pep[i,:]= popt_pep\n",
    "    \n",
    "    print(f'{i} finished')"
   ]
  },
  {
   "cell_type": "code",
   "execution_count": null,
   "id": "ce3554ba",
   "metadata": {},
   "outputs": [],
   "source": [
    "# plot \n",
    "plt.rcParams.update({'font.size': 18})\n",
    "plt.figure()\n",
    "plt.plot(zHf_pep, denHf_pep*C,'.', color='#D00000', label=f'{seq}') #  {denCod_pep*C:.3g}, {denDil_pep*C:.3g}'\n",
    "plt.plot(zHf_pep, denFit_pep*C, '--', linewidth=3, color='#D09000')\n",
    "    \n",
    "plt.xlim([0, 1.01*Lz/2])\n",
    "plt.xlabel(r'$z$ [nm]')\n",
    "plt.ylabel(r'$\\rho_i(z)$ 10$^{-3}$ [nm$^{-3}$]')\n",
    "plt.legend(frameon=False, fontsize=14)\n",
    "plt.tight_layout()\n",
    "# plt.savefig(folder+'/densZ_fit.png')"
   ]
  },
  {
   "cell_type": "markdown",
   "id": "2f745b37",
   "metadata": {},
   "source": [
    "![](densZ_fit.png)"
   ]
  },
  {
   "cell_type": "code",
   "execution_count": null,
   "id": "8cc36fae",
   "metadata": {},
   "outputs": [],
   "source": [
    "# save variables\n",
    "folderSave= folder0+'/results'\n",
    "if not os.path.exists(folderSave):\n",
    "    os.mkdir(folderSave) \n",
    "print(folderSave)  # build 'folderSave'\n",
    "\n",
    "TempTag= f'{Temps[0]}-{Temps[-1]}'\n",
    "\n",
    "with open(folderSave+'/dens'+TempTag+'.pkl', 'wb') as f: \n",
    "    pickle.dump([Temps, denDils_pep, denCods_pep], f) # 3"
   ]
  },
  {
   "cell_type": "markdown",
   "id": "5461989f",
   "metadata": {},
   "source": [
    "collect simulations under different temperatures"
   ]
  },
  {
   "cell_type": "code",
   "execution_count": null,
   "id": "e7e37bff",
   "metadata": {},
   "outputs": [],
   "source": [
    "import numpy as np\n",
    "import pickle\n",
    "import matplotlib.pyplot as plt\n",
    "from scipy.optimize import curve_fit\n",
    "\n",
    "folder0C= ['WT',  'H12K'] # !\n",
    "filenameC= ['dens260-290', 'dens200-260'] # ! "
   ]
  },
  {
   "cell_type": "code",
   "execution_count": null,
   "id": "71954cc2",
   "metadata": {},
   "outputs": [],
   "source": [
    "### load\n",
    "NC= len(folder0C)\n",
    "TempC= []\n",
    "denDilC_pep= []\n",
    "denCodC_pep= []\n",
    "for i in range(NC):\n",
    "    folderSave= folder0C[i]+'/results'\n",
    "    with open(folderSave+'/'+filenameC[i]+'.pkl', 'rb') as f: \n",
    "        v1, v2, v3 = pickle.load(f)\n",
    "    TempC.append(v1)\n",
    "    denDilC_pep.append(v2)\n",
    "    denCodC_pep.append(v3)"
   ]
  },
  {
   "cell_type": "code",
   "execution_count": null,
   "id": "423b5cfa",
   "metadata": {},
   "outputs": [],
   "source": [
    "### fitting\n",
    "accu= 500\n",
    "indC= [[0,0], [0,0]]\n",
    "\n",
    "fitC_pep= []\n",
    "TC_pep_cr= []\n",
    "rhoC_pep_cr= []\n",
    "for i in range(NC):\n",
    "    denCod= denCodC_pep[i]\n",
    "    denDil= denDilC_pep[i]\n",
    "    Temp= TempC[i]\n",
    "    i_beg= indC[i][0]\n",
    "    i_end= indC[i][1]\n",
    "    if i_end==0:\n",
    "        i_end= len(Temp)\n",
    "    fit, T_cr, rho_cr= find_Tc_from_diagram(denCod[i_beg:i_end], denDil[i_beg:i_end], Temp[i_beg:i_end], accu)\n",
    "    fitC_pep.append(fit)\n",
    "    TC_pep_cr.append(T_cr)\n",
    "    rhoC_pep_cr.append(rho_cr)"
   ]
  },
  {
   "cell_type": "markdown",
   "id": "40e91b98",
   "metadata": {},
   "source": [
    "The phase diagram of GY-23\n",
    "\n",
    "![test image](phaseDiag_dens.png)"
   ]
  }
 ],
 "metadata": {
  "kernelspec": {
   "display_name": "Python 3.12.2 64-bit",
   "language": "python",
   "name": "python3"
  },
  "language_info": {
   "codemirror_mode": {
    "name": "ipython",
    "version": 3
   },
   "file_extension": ".py",
   "mimetype": "text/x-python",
   "name": "python",
   "nbconvert_exporter": "python",
   "pygments_lexer": "ipython3",
   "version": "3.12.2"
  },
  "vscode": {
   "interpreter": {
    "hash": "b0fa6594d8f4cbf19f97940f81e996739fb7646882a419484c72d19e05852a7e"
   }
  }
 },
 "nbformat": 4,
 "nbformat_minor": 5
}
