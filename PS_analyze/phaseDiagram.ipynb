{
 "cells": [
  {
   "cell_type": "code",
   "execution_count": null,
   "metadata": {},
   "outputs": [],
   "source": [
    "import numpy as np\n",
    "import pickle\n",
    "import matplotlib.pyplot as plt\n",
    "from scipy.optimize import curve_fit\n",
    "\n",
    "def find_Tc_from_diagram(rho_c, rho_d, temperatures, accuracy):\n",
    "    \n",
    "    '''Fit/extrapolate phase diagram and extract critical temperature and density'''\n",
    "    \n",
    "    def scaling_coex_densities(x, A, Tc_sc):\n",
    "        beta = 0.325\n",
    "        return A * (Tc_sc - x) ** beta\n",
    "\n",
    "    def rectilinear_diametres(x, A2, Tc_rd, rho_cr): # (?) linear function should not have 3 parameters\n",
    "        #ref : https://link.springer.com/article/10.1007/BF02847185\n",
    "        return 2* rho_cr * (1 + A2* (Tc_rd- x)) # (?) -> ...\n",
    "     \n",
    "    popt, pcovt = curve_fit(scaling_coex_densities, temperatures, rho_c - rho_d, \n",
    "                            p0=[0.1, 400])\n",
    "\n",
    "    popt2, pcovt2 = curve_fit(rectilinear_diametres, temperatures, (rho_c + rho_d), \n",
    "                                p0=[0.01, 400, 0.5])                            \n",
    "    \n",
    "    ext_T = np.linspace(np.min(temperatures), popt[1], accuracy)\n",
    "    \n",
    "    rho_drop_fit = (scaling_coex_densities(ext_T, *popt) + rectilinear_diametres(ext_T, *popt2)) / 2\n",
    "    rho_solv_fit = (-scaling_coex_densities(ext_T, *popt) + rectilinear_diametres(ext_T, *popt2)) / 2\n",
    "    \n",
    "    fit = np.zeros(shape=(accuracy*2, 2))\n",
    "    fit[:len(fit)//2, 0] = rho_solv_fit\n",
    "    fit[len(fit)//2:, 0] = np.flip(rho_drop_fit)\n",
    "    fit[:len(fit)//2, 1] = ext_T\n",
    "    fit[len(fit)//2:, 1] = np.flip(ext_T)\n",
    "\n",
    "    critical_T = popt[1] # popt2[1] is an incorrect parameter, too many parameters\n",
    "    critical_rho= rho_solv_fit[-1] # popt2[1] is an incorrect parameter\n",
    "    #cr_point = [critical_rho, critical_T[0]]\n",
    "\n",
    "    return fit, critical_T, critical_rho"
   ]
  },
  {
   "cell_type": "code",
   "execution_count": null,
   "metadata": {},
   "outputs": [],
   "source": [
    "#### parameters ####\n",
    "accu= 500 # accuracy of fitting\n",
    "clrC= ['#E01010', '#1010E0'] # color for plot\n",
    "# -- constant\n",
    "V= 14**2*(14*8) # volume in unit [nm^3]\n",
    "C= 1000 # adjust the unit, can be changed"
   ]
  },
  {
   "cell_type": "code",
   "execution_count": null,
   "metadata": {},
   "outputs": [],
   "source": [
    "#### load density profile ####\n",
    "# Here the variable name is 'denCodC_pep, denDilC_pep, TempC', change the following code for loading\n",
    "denCodC_pep=[]\n",
    "denDilC_pep=[]\n",
    "TempC=[]\n",
    "NC= len(TempC)"
   ]
  },
  {
   "cell_type": "code",
   "execution_count": null,
   "metadata": {},
   "outputs": [],
   "source": [
    "fitC_pep= []\n",
    "TC_pep_cr= []\n",
    "rhoC_pep_cr= []\n",
    "for i in range(NC):\n",
    "    denCod= denCodC_pep[i]\n",
    "    denDil= denDilC_pep[i]\n",
    "    Temp= TempC[i]\n",
    "    if i_end==0:\n",
    "        i_end= len(Temp)\n",
    "    fit, T_cr, rho_cr= find_Tc_from_diagram(denCod, denDil, Temp, accu)\n",
    "    fitC_pep.append(fit)\n",
    "    TC_pep_cr.append(T_cr)\n",
    "    rhoC_pep_cr.append(rho_cr)"
   ]
  },
  {
   "cell_type": "code",
   "execution_count": null,
   "metadata": {},
   "outputs": [],
   "source": [
    "plt.rcParams.update({'font.size': 18})\n",
    "\n",
    "plt.figure()\n",
    "for i in range(NC):\n",
    "    # seq= seqC[i]\n",
    "    plt.plot(denDilC_pep[i]*C,TempC[i],marker='o',markersize=10, color=clrC[i],linestyle='none')\n",
    "    plt.plot(denCodC_pep[i]*C,TempC[i],marker='o',markersize=10, color=clrC[i],linestyle='none')\n",
    "    fit_pep= fitC_pep[i]\n",
    "    plt.plot(fit_pep[:,0]*C,fit_pep[:,1],'--',linewidth=2, color=clrC[i])\n",
    "    plt.scatter(rhoC_pep_cr[i]*C,TC_pep_cr[i], c=clrC[i],marker='o',s=100)\n",
    "\n",
    "plt.legend(frameon=False, fontsize=14) # loc='lower|center|upper'\n",
    "plt.xlabel(r'$\\rho_{i}$ 10$^{-3}$ [nm$^{-3}$]')\n",
    "plt.ylabel(r'$T$ [K]')\n",
    "# plt.grid()\n",
    "plt.tight_layout()\n",
    "# plt.savefig('./phaseDiag_dens.png')"
   ]
  }
 ],
 "metadata": {
  "kernelspec": {
   "display_name": "Python 3.12.2 64-bit",
   "language": "python",
   "name": "python3"
  },
  "language_info": {
   "name": "python",
   "version": "3.12.2"
  },
  "orig_nbformat": 4,
  "vscode": {
   "interpreter": {
    "hash": "b0fa6594d8f4cbf19f97940f81e996739fb7646882a419484c72d19e05852a7e"
   }
  }
 },
 "nbformat": 4,
 "nbformat_minor": 2
}
