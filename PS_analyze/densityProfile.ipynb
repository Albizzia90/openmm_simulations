{
 "cells": [
  {
   "cell_type": "code",
   "execution_count": null,
   "metadata": {},
   "outputs": [],
   "source": [
    "import MDAnalysis as mda\n",
    "import mdtraj as md\n",
    "import numpy as np\n",
    "import nglview as nv\n",
    "import matplotlib as mpl\n",
    "import matplotlib.pyplot as plt\n",
    "from scipy.optimize import curve_fit\n",
    "import math\n",
    "import pickle\n",
    "import os\n",
    "\n",
    "def tanh_fit(z, dens):\n",
    "    # Plot the average density profile along with best fit to tanh function with rho1>rho2 for the two coexisting phases\n",
    "    def tanh_func(z, rho1, rho2, delta, z0):\n",
    "        return 0.5*(rho1+rho2) - 0.5*(rho1-rho2) * np.tanh((z - z0) * 2.19722/delta)\n",
    "    z1, z2 = np.split(z,2)\n",
    "    rho1, rho2 = np.split(dens, 2)\n",
    "    rho_av1 = (rho1[::-1]+ rho2[:])/2 # [::-1] means flip the array\n",
    "    popt, pcov = curve_fit(tanh_func, z1, rho_av1, p0=[rho_av1.max(), rho_av1.min(), 2, z1.max()/2], maxfev=5000) # normal maxfev=1000\n",
    "    rho_fit1= tanh_func(z1, *popt)\n",
    "    return z1, rho_av1, rho_fit1, popt\n",
    "\n",
    "def centered_dens(z,Lz):\n",
    "        zx= np.cos(2*math.pi*z/Lz)\n",
    "        zy= np.sin(2*math.pi*z/Lz)\n",
    "        Cx= np.mean(zx)\n",
    "        Cy= np.mean(zy)\n",
    "        rad= np.arctan2(Cy,Cx) # [-pi,pi]\n",
    "        if rad<0:\n",
    "            rad+=2*math.pi\n",
    "        zC= rad*Lz/(2*math.pi)\n",
    "        r= np.sqrt(Cx**2+ Cy**2)\n",
    "        return zC, r"
   ]
  },
  {
   "cell_type": "code",
   "execution_count": null,
   "metadata": {},
   "outputs": [],
   "source": [
    "#### load trajectory as 'universe of mda' ####\n",
    "# need psf and dcd files\n",
    "folder= [] # can be changed\n",
    "u = mda.Universe(folder+'/psfName.psf', folder+'/dcdName.dcd') # name can be changed"
   ]
  },
  {
   "cell_type": "code",
   "execution_count": null,
   "metadata": {},
   "outputs": [],
   "source": [
    "#### parameters ####\n",
    "c_nm= 0.1 # A -> nm\n",
    "Lx, Ly, Lz= u.dimensions[:3]*c_nm # [A]\n",
    "traj= u.trajectory\n",
    "a= u.atoms\n",
    "\n",
    "start= 0\n",
    "period= 50 # less period is more accurate, but slower\n",
    "nbins= 101\n",
    "ratio_avg= 0.5 \n",
    "\n",
    "dz= Lz/(nbins-1)\n",
    "nT= math.floor(len(traj)) # total length of trajectory\n",
    "nA= len(a) # number of atoms\n",
    "    \n",
    "'''\n",
    "# --- average density profile\n",
    "nFrame= 10000 # total recorded frame of simulation\n",
    "timeTot= 500 # ! total time of simulation [ns]\n",
    "end= math.floor(nFrame*len_ratio)\n",
    "print(f\"frame {start}:{period}:{end}\")\n",
    "'''"
   ]
  },
  {
   "cell_type": "code",
   "execution_count": null,
   "metadata": {},
   "outputs": [],
   "source": [
    "#### accumulate process ####\n",
    "dens_pep= []\n",
    "for i in range(start, nT, period):\n",
    "    traj[i]\n",
    "    z = a.positions[:, 2]*c_nm\n",
    "    zC, r= centered_dens(z,Lz)\n",
    "    zR = (z- zC + Lz/2 )%Lz\n",
    "    h1, binz = np.histogram(zR, bins = nbins-1, range=(0, Lz))\n",
    "    rhoz= h1/(Lx*Ly*dz) # number density in [nm^{-3}]\n",
    "    dens_pep.append(rhoz)\n",
    "    zc= 0.5*(binz[:-1]+binz[1:])\n",
    "\n",
    "nF= np.shape(dens_pep)[0] # number of picked frames\n",
    "iBeg_avg= round(nF*(1-ratio_avg))\n",
    "#\n",
    "denM_pep= np.mean(dens_pep[iBeg_avg:,:],axis=0)"
   ]
  },
  {
   "cell_type": "code",
   "execution_count": null,
   "metadata": {},
   "outputs": [],
   "source": [
    "#### fitting ####\n",
    "zHf_pep, denHf_pep, denFit_pep, popt_pep= tanh_fit(zc,denM_pep)\n",
    "denCod_pep= popt_pep[0]\n",
    "denDil_pep= popt_pep[1]"
   ]
  }
 ],
 "metadata": {
  "kernelspec": {
   "display_name": "Python 3.12.2 64-bit",
   "language": "python",
   "name": "python3"
  },
  "language_info": {
   "name": "python",
   "version": "3.12.2"
  },
  "orig_nbformat": 4,
  "vscode": {
   "interpreter": {
    "hash": "b0fa6594d8f4cbf19f97940f81e996739fb7646882a419484c72d19e05852a7e"
   }
  }
 },
 "nbformat": 4,
 "nbformat_minor": 2
}
