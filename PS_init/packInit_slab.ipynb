{
 "cells": [
  {
   "cell_type": "code",
   "execution_count": 1,
   "metadata": {},
   "outputs": [
    {
     "name": "stderr",
     "output_type": "stream",
     "text": [
      "Warning: importing 'simtk.openmm' is deprecated.  Import 'openmm' instead.\n"
     ]
    }
   ],
   "source": [
    "import numpy  as np\n",
    "import mbuild as mb\n",
    "from llpsmd.utils import save_parmed, load_parmed\n",
    "# from llpsmd.cgmodels.build_dna2 import DNA, RNA\n",
    "from llpsmd.cgmodels.build_idp import CG_idp\n",
    "import os\n",
    "\n",
    "import warnings\n",
    "warnings.filterwarnings('ignore')"
   ]
  },
  {
   "cell_type": "code",
   "execution_count": 2,
   "metadata": {},
   "outputs": [],
   "source": [
    "seq= 'GHGLYGAGFAGHGLHGFAGHGLY' # IDP sequence in 1-letter form, here is an example of GY23\n",
    "idp = CG_idp(seq) "
   ]
  },
  {
   "cell_type": "code",
   "execution_count": 3,
   "metadata": {},
   "outputs": [
    {
     "name": "stdout",
     "output_type": "stream",
     "text": [
      "Lx=14, Lz=112\n",
      "N_idp=700 (23)\n",
      "N_bead=16100\n",
      "#density=0.733\n"
     ]
    }
   ],
   "source": [
    "### parameters\n",
    "Lx= 14 # Lx=Ly\n",
    "Lz= 14*8 # length in z-axis, usually 7-10 times larger than Lx & Ly\n",
    "V= Lx**2*Lz # volume\n",
    "N_idp= 700 # chain number of IDP \n",
    "\n",
    "I2= len(seq) # number of amino acids in one segement of peptide\n",
    "fileName= 'GY23_M700x14'  # file name, can be changed\n",
    "\n",
    "### print\n",
    "print(f'Lx={Lx}, Lz={Lz}')\n",
    "print(f'N_idp={N_idp} ({I2})')\n",
    "print(f'N_bead={N_idp*I2}')\n",
    "print(f'#density={(N_idp*I2/V):.3g}')"
   ]
  },
  {
   "cell_type": "markdown",
   "metadata": {},
   "source": [
    "Simple initialization with 'fill_box'"
   ]
  },
  {
   "cell_type": "code",
   "execution_count": 4,
   "metadata": {},
   "outputs": [
    {
     "name": "stdout",
     "output_type": "stream",
     "text": [
      "configuration has built\n"
     ]
    }
   ],
   "source": [
    "pack_cell= mb.fill_box(idp,N_idp,box= [Lx,Lx,Lz],fix_orientation=True)\n",
    "save_parmed(pack_cell, fname=fileName)"
   ]
  },
  {
   "cell_type": "markdown",
   "metadata": {},
   "source": [
    "Load parmed and observe the configuration"
   ]
  },
  {
   "cell_type": "code",
   "execution_count": 7,
   "metadata": {},
   "outputs": [
    {
     "name": "stdout",
     "output_type": "stream",
     "text": [
      "Loaded parmed with topology: <Topology; 700 chains, 16100 residues, 16100 atoms, 15400 bonds>\n"
     ]
    },
    {
     "data": {
      "text/plain": [
       "<Topology; 700 chains, 16100 residues, 16100 atoms, 15400 bonds>"
      ]
     },
     "execution_count": 7,
     "metadata": {},
     "output_type": "execute_result"
    }
   ],
   "source": [
    "#from llpsmd.utils import load_parmed\n",
    "pmd_pack= load_parmed(fname=fileName)\n",
    "pmd_pack.topology"
   ]
  },
  {
   "cell_type": "code",
   "execution_count": 5,
   "metadata": {},
   "outputs": [
    {
     "data": {
      "text/plain": [
       "<mdtraj.Topology with 700 chains, 16100 residues, 16100 atoms, 0 bonds at 0x17ee46eb0>"
      ]
     },
     "execution_count": 5,
     "metadata": {},
     "output_type": "execute_result"
    }
   ],
   "source": [
    "import mdtraj as md\n",
    "import nglview as nv\n",
    "\n",
    "traj= md.load(fileName+'.pdb')\n",
    "show = nv.show_mdtraj(traj)\n",
    "show.clear_representations()\n",
    "show.add_representation('ball+stick', radius=1)\n",
    "show.add_representation('ball+stick', selection = '._G', color=0x00E000, radius=1)\n",
    "show.add_representation('ball+stick', selection = '._H', color=0x0000E0, radius=1)\n",
    "show.add_unitcell()\n",
    "show\n",
    "traj.topology"
   ]
  },
  {
   "cell_type": "markdown",
   "metadata": {},
   "source": [
    "NPT simulation on openmm:\n",
    "\n",
    "modify 'gpu_npt.sh' , 'gpu_npt_N.sh' & 't*.py' from 'DNA_h4_visc_b/WT' into 'copy' folder\n",
    "move 'pdb, psf' files into copy folder\n",
    "\n",
    "Run 'gene_nptFiles.ipynb'"
   ]
  }
 ],
 "metadata": {
  "kernelspec": {
   "display_name": "Python 3.9.15 ('llpsmd_Jun_nuc')",
   "language": "python",
   "name": "python3"
  },
  "language_info": {
   "codemirror_mode": {
    "name": "ipython",
    "version": 3
   },
   "file_extension": ".py",
   "mimetype": "text/x-python",
   "name": "python",
   "nbconvert_exporter": "python",
   "pygments_lexer": "ipython3",
   "version": "3.9.15"
  },
  "orig_nbformat": 4,
  "vscode": {
   "interpreter": {
    "hash": "f81f1f5cee6d025e8ef806360ef46bb14235d6702258a6c00c043ff8ed98c817"
   }
  }
 },
 "nbformat": 4,
 "nbformat_minor": 2
}
